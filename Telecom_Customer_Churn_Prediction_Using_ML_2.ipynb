{
 "cells": [
  {
   "cell_type": "markdown",
   "id": "14cae695",
   "metadata": {},
   "source": [
    "# Build Model But we Handeled Data To Be Balanced Using OverSampling"
   ]
  },
  {
   "cell_type": "code",
   "execution_count": 46,
   "id": "3f014bcb",
   "metadata": {},
   "outputs": [],
   "source": [
    "import pandas as pd\n",
    "import numpy as np\n",
    "import matplotlib.pyplot as plt\n",
    "import seaborn as sns\n",
    "\n",
    "from sklearn.model_selection import train_test_split\n",
    "from sklearn.metrics         import classification_report\n",
    "from sklearn.linear_model    import LogisticRegression\n",
    "from sklearn.neighbors       import KNeighborsClassifier\n",
    "\n",
    "# to ignore Errors\n",
    "import warnings\n",
    "warnings.filterwarnings(\"ignore\", category=FutureWarning)"
   ]
  },
  {
   "cell_type": "code",
   "execution_count": 33,
   "id": "f2e89cfb",
   "metadata": {},
   "outputs": [],
   "source": [
    "# Read Data into Dataframe\n",
    "\n",
    "df = pd.read_csv(r'C:\\Users\\dell\\Desktop\\powerbi projects\\datasets\\telecom\\telecom_data.csv')"
   ]
  },
  {
   "cell_type": "code",
   "execution_count": 5,
   "id": "d1150db5",
   "metadata": {},
   "outputs": [],
   "source": [
    "# split the data into Features and Target \n",
    "\n",
    "X = df.drop(['customerID','Churn'],axis=1)\n",
    "y = df['Churn']"
   ]
  },
  {
   "cell_type": "code",
   "execution_count": 6,
   "id": "edd5d88e",
   "metadata": {},
   "outputs": [
    {
     "data": {
      "text/plain": [
       "No     5174\n",
       "Yes    1869\n",
       "Name: Churn, dtype: int64"
      ]
     },
     "execution_count": 6,
     "metadata": {},
     "output_type": "execute_result"
    }
   ],
   "source": [
    "# Show The Target Distribution Before OverSampling\n",
    "\n",
    "y.value_counts()"
   ]
  },
  {
   "cell_type": "markdown",
   "id": "5d4f0437",
   "metadata": {},
   "source": [
    "### - Apply over_sampling:-"
   ]
  },
  {
   "cell_type": "code",
   "execution_count": 17,
   "id": "ce8da774",
   "metadata": {},
   "outputs": [],
   "source": [
    "# over_sampling \n",
    "from imblearn.over_sampling import RandomOverSampler\n",
    "\n",
    "ros = RandomOverSampler()\n",
    "X,y = ros.fit_resample(X,y)"
   ]
  },
  {
   "cell_type": "code",
   "execution_count": 18,
   "id": "b3e56232",
   "metadata": {},
   "outputs": [
    {
     "data": {
      "text/plain": [
       "No     5174\n",
       "Yes    5174\n",
       "Name: Churn, dtype: int64"
      ]
     },
     "execution_count": 18,
     "metadata": {},
     "output_type": "execute_result"
    }
   ],
   "source": [
    "# Show The Target Distribution After OverSampling\n",
    "\n",
    "y.value_counts()"
   ]
  },
  {
   "cell_type": "markdown",
   "id": "001205b1",
   "metadata": {},
   "source": [
    "``Now Data Is Balanced``"
   ]
  },
  {
   "cell_type": "code",
   "execution_count": 25,
   "id": "ed8ab93e",
   "metadata": {},
   "outputs": [],
   "source": [
    "# ordinal encoding\n",
    "\n",
    "from sklearn.preprocessing import OrdinalEncoder\n",
    "\n",
    "oe = OrdinalEncoder()\n",
    "X = oe.fit_transform(X)"
   ]
  },
  {
   "cell_type": "code",
   "execution_count": 26,
   "id": "89120b42",
   "metadata": {},
   "outputs": [],
   "source": [
    "# train test split\n",
    "\n",
    "X_train,X_test,y_train,y_test=train_test_split(X,y,random_state=10)"
   ]
  },
  {
   "cell_type": "markdown",
   "id": "adb812c4",
   "metadata": {},
   "source": [
    "### - Build Model:-"
   ]
  },
  {
   "cell_type": "code",
   "execution_count": 15,
   "id": "26d6cfff",
   "metadata": {},
   "outputs": [],
   "source": [
    "# RandomForestClassifier Model \n",
    "\n",
    "from sklearn.ensemble import RandomForestClassifier\n",
    "\n",
    "rfc = RandomForestClassifier()\n",
    "rfc.fit(X_train,y_train)\n",
    "\n",
    "y_pred = rfc.predict(X_test)"
   ]
  },
  {
   "cell_type": "code",
   "execution_count": 45,
   "id": "63931900",
   "metadata": {},
   "outputs": [
    {
     "name": "stdout",
     "output_type": "stream",
     "text": [
      "RandomForestClassifier Results\n",
      "------------------------------------------------------\n",
      "              precision    recall  f1-score   support\n",
      "\n",
      "          No       0.95      0.84      0.89      1318\n",
      "         Yes       0.85      0.95      0.90      1269\n",
      "\n",
      "    accuracy                           0.90      2587\n",
      "   macro avg       0.90      0.90      0.90      2587\n",
      "weighted avg       0.90      0.90      0.90      2587\n",
      "\n",
      "------------------------------------------------------\n"
     ]
    }
   ],
   "source": [
    "# print The Evalution Metrics\n",
    "\n",
    "print(\"RandomForestClassifier Results\")\n",
    "print(\"------------------------------------------------------\")\n",
    "print(classification_report(y_test,y_pred))\n",
    "print(\"------------------------------------------------------\")"
   ]
  },
  {
   "cell_type": "markdown",
   "id": "7b156bb2",
   "metadata": {},
   "source": [
    "``The Model precision = 95% with NO And 85% With Yes``"
   ]
  },
  {
   "cell_type": "markdown",
   "id": "7f58820d",
   "metadata": {},
   "source": [
    " ``The Model Recall = 85% with NO And 95% With Yes``"
   ]
  },
  {
   "cell_type": "markdown",
   "id": "a7c73bcf",
   "metadata": {},
   "source": [
    "> The Accuracy is 90% "
   ]
  },
  {
   "cell_type": "markdown",
   "id": "aac5cd5d",
   "metadata": {},
   "source": [
    "``Done``"
   ]
  }
 ],
 "metadata": {
  "kernelspec": {
   "display_name": "Python 3 (ipykernel)",
   "language": "python",
   "name": "python3"
  },
  "language_info": {
   "codemirror_mode": {
    "name": "ipython",
    "version": 3
   },
   "file_extension": ".py",
   "mimetype": "text/x-python",
   "name": "python",
   "nbconvert_exporter": "python",
   "pygments_lexer": "ipython3",
   "version": "3.9.13"
  }
 },
 "nbformat": 4,
 "nbformat_minor": 5
}
